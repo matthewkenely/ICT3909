{
 "cells": [
  {
   "cell_type": "code",
   "execution_count": 1,
   "metadata": {},
   "outputs": [],
   "source": [
    "import cv2\n",
    "import numpy as np\n",
    "import matplotlib.pyplot as plt\n",
    "\n",
    "import os\n",
    "import sys\n",
    "\n",
    "FIG_PATH = './Figures/'"
   ]
  },
  {
   "cell_type": "code",
   "execution_count": 2,
   "metadata": {},
   "outputs": [],
   "source": [
    "names = [\n",
    "    'Custom (DESKTOP)',\n",
    "    'Custom (MOBILE)',\n",
    "    'Times of Malta',\n",
    "    'Lovin’ Malta',\n",
    "    'TVM',\n",
    "    'The Malta Independent',\n",
    "    'Malta Today',\n",
    "    'Illum',\n",
    "    'Times of Malta',\n",
    "    'The Shift',\n",
    "]"
   ]
  },
  {
   "cell_type": "code",
   "execution_count": 3,
   "metadata": {},
   "outputs": [],
   "source": [
    "with open ('/home/matthewkenely/Programming/Assignments/ICT3909 Final Year Project in Artificial Intelligence/ICT3909/ablation/images/names.txt', 'r') as f:\n",
    "    pair_names = f.readlines()\n",
    "    pair_names = [name.strip() for name in pair_names]"
   ]
  },
  {
   "cell_type": "code",
   "execution_count": 4,
   "metadata": {},
   "outputs": [],
   "source": [
    "pairs = [(i, i + 10) for i in range(10)]"
   ]
  },
  {
   "cell_type": "code",
   "execution_count": 5,
   "metadata": {},
   "outputs": [],
   "source": [
    "images = {}\n",
    "deepgaze = {}\n",
    "tracking = {}\n",
    "trajectories = {}\n",
    "ranks = {}"
   ]
  },
  {
   "cell_type": "markdown",
   "metadata": {},
   "source": [
    "**Custom (DESKTOP)**"
   ]
  },
  {
   "cell_type": "code",
   "execution_count": 6,
   "metadata": {},
   "outputs": [],
   "source": [
    "p = 0"
   ]
  },
  {
   "cell_type": "code",
   "execution_count": 7,
   "metadata": {},
   "outputs": [],
   "source": [
    "DIR = FIG_PATH + names[p] + '/'"
   ]
  },
  {
   "cell_type": "code",
   "execution_count": 8,
   "metadata": {},
   "outputs": [
    {
     "data": {
      "text/plain": [
       "'./Figures/Custom (DESKTOP)/'"
      ]
     },
     "execution_count": 8,
     "metadata": {},
     "output_type": "execute_result"
    }
   ],
   "source": [
    "DIR"
   ]
  },
  {
   "cell_type": "code",
   "execution_count": 9,
   "metadata": {},
   "outputs": [
    {
     "data": {
      "text/plain": [
       "'DESKTOP_A'"
      ]
     },
     "execution_count": 9,
     "metadata": {},
     "output_type": "execute_result"
    }
   ],
   "source": [
    "pair_names[pairs[p][0]]"
   ]
  },
  {
   "cell_type": "code",
   "execution_count": 10,
   "metadata": {},
   "outputs": [],
   "source": [
    "images[names[pairs[p][0]]] = {}\n",
    "images[names[pairs[p][0]]]['A'] = cv2.cvtColor(cv2.imread(DIR + pair_names[pairs[p][0]] + '.png'), cv2.COLOR_BGR2RGB)\n",
    "images[names[pairs[p][0]]]['B'] = cv2.cvtColor(cv2.imread(DIR + pair_names[pairs[p][1]] + '.png'), cv2.COLOR_BGR2RGB)\n",
    "\n",
    "deepgaze[names[pairs[p][0]]] = {}\n",
    "deepgaze[names[pairs[p][0]]]['A'] = cv2.cvtColor(cv2.imread(DIR + pair_names[pairs[p][0]] + '_DEEPGAZE.png'), cv2.COLOR_BGR2RGB)\n",
    "deepgaze[names[pairs[p][0]]]['B'] = cv2.cvtColor(cv2.imread(DIR + pair_names[pairs[p][1]] + \n",
    "'_DEEPGAZE.png'), cv2.COLOR_BGR2RGB)\n",
    "\n",
    "ranks[names[pairs[p][0]]] = {}\n",
    "ranks[names[pairs[p][0]]]['A'] = cv2.cvtColor(cv2.imread(DIR + pair_names[pairs[p][0]] + '_RANKS.png'), cv2.COLOR_BGR2RGB)\n",
    "ranks[names[pairs[p][0]]]['B'] = cv2.cvtColor(cv2.imread(DIR + pair_names[pairs[p][1]] + \n",
    "'_RANKS.png'), cv2.COLOR_BGR2RGB)"
   ]
  },
  {
   "cell_type": "code",
   "execution_count": 15,
   "metadata": {},
   "outputs": [
    {
     "data": {
      "text/plain": [
       "<Figure size 1728x864 with 0 Axes>"
      ]
     },
     "execution_count": 15,
     "metadata": {},
     "output_type": "execute_result"
    },
    {
     "data": {
      "text/plain": [
       "<Figure size 1728x864 with 0 Axes>"
      ]
     },
     "metadata": {},
     "output_type": "display_data"
    }
   ],
   "source": [
    "plt.figure(figsize=(24, 12))\n",
    "\n",
    "plt.subplot()"
   ]
  }
 ],
 "metadata": {
  "kernelspec": {
   "display_name": "sara",
   "language": "python",
   "name": "python3"
  },
  "language_info": {
   "codemirror_mode": {
    "name": "ipython",
    "version": 3
   },
   "file_extension": ".py",
   "mimetype": "text/x-python",
   "name": "python",
   "nbconvert_exporter": "python",
   "pygments_lexer": "ipython3",
   "version": "3.6.13"
  }
 },
 "nbformat": 4,
 "nbformat_minor": 2
}
